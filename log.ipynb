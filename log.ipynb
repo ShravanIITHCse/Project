{
 "cells": [
  {
   "cell_type": "markdown",
   "id": "d78b9d4a-af3e-4409-aed7-a6bfc0a4881e",
   "metadata": {},
   "source": [
    "## Face detection in a video"
   ]
  },
  {
   "cell_type": "markdown",
   "id": "7a7a7061-1927-4a0a-bd67-4a3d8b439fc2",
   "metadata": {},
   "source": [
    "### Import the modules"
   ]
  },
  {
   "cell_type": "code",
   "execution_count": 1,
   "id": "daa986e8-096a-493e-8354-b71957031bdb",
   "metadata": {},
   "outputs": [],
   "source": [
    "import cv2\n",
    "import numpy as np"
   ]
  },
  {
   "cell_type": "markdown",
   "id": "dea7461a-2da7-4508-97c8-7fb5f15fe326",
   "metadata": {},
   "source": [
    "### Loading the pretrained HAAR Cascade"
   ]
  },
  {
   "cell_type": "code",
   "execution_count": 2,
   "id": "c5c278e1-f388-4f37-9321-5f057d6d2e70",
   "metadata": {},
   "outputs": [],
   "source": [
    "face_cascade = cv2.CascadeClassifier(cv2.data.haarcascades + 'haarcascade_frontalface_default.xml')"
   ]
  },
  {
   "cell_type": "code",
   "execution_count": 3,
   "id": "7fe8a40a-917d-4eea-bc8e-b49ecf601a89",
   "metadata": {},
   "outputs": [],
   "source": [
    "def rgb_to_ycgco(image):\n",
    "    # Extracting R, G, and B channels\n",
    "    R = image[:, :, 0]\n",
    "    G = image[:, :, 1]\n",
    "    B = image[:, :, 2]\n",
    "    \n",
    "    # Calculating Co, tmp, Cg, and Y\n",
    "    Co = R - B\n",
    "    tmp = B + Co / 2\n",
    "    Cg = G - tmp\n",
    "    Y = tmp + Cg / 2\n",
    "    \n",
    "    # Stacking Y, Cg, and Co channels to form YCGCO image\n",
    "    ycgco_image = np.stack([Y, Cg, Co], axis=-1)\n",
    "    \n",
    "    return ycgco_image.astype(np.float32)"
   ]
  },
  {
   "cell_type": "markdown",
   "id": "31751b25-62d2-46cf-b47e-4341aa031e1d",
   "metadata": {},
   "source": [
    "### Caputre the video"
   ]
  },
  {
   "cell_type": "code",
   "execution_count": 6,
   "id": "6f119f4d-6d5e-4c22-aee5-98672b0b7c4c",
   "metadata": {},
   "outputs": [],
   "source": [
    "cap = cv2.VideoCapture('demo_V.mp4')\n",
    "# Getting the frame rate of the video such that it will run on original speed \n",
    "fps = cap.get(cv2.CAP_PROP_FPS)\n",
    "while True:\n",
    "    # Capture frame by frame\n",
    "    ret, frame = cap.read() # ret is return variable which is true when function has read something\n",
    "    \n",
    "    if ret is not True:\n",
    "        break\n",
    "    width = 400\n",
    "    height = 500\n",
    "    resized_frame = cv2.resize(frame, (width, height))\n",
    "\n",
    "    # Convert the frame to grayscale\n",
    "    ycgco_frame = cv2.cvtColor(resized_frame, cv2.COLOR_BGR2YCrCb)\n",
    "    gray_frame = cv2.cvtColor(resized_frame, cv2.COLOR_BGR2GRAY)\n",
    "\n",
    "    # Perform face detection\n",
    "    faces = face_cascade.detectMultiScale(gray_frame, scaleFactor=1.1, minNeighbors=5, minSize=(30, 30))\n",
    "\n",
    "     # Draw rectangles around the detected faces\n",
    "    for (x, y, w, h) in faces:\n",
    "        cv2.rectangle(resized_frame, (x, y), (x+w, y+h), (255, 0, 0), 2)\n",
    "        cv2.rectangle(ycgco_frame, (x, y), (x+w, y+h), (255, 0, 0), 2)\n",
    "        roi1_x = x + w//8\n",
    "        roi1_y = y + h//2\n",
    "        roi1_w = w//10\n",
    "        roi1_h = h//10\n",
    "        cv2.rectangle(resized_frame, (roi1_x, roi1_y), (roi1_x+roi1_w, roi1_y+roi1_h), (255, 255, 0), 2)\n",
    "        cv2.rectangle(ycgco_frame, (roi1_x, roi1_y), (roi1_x+roi1_w, roi1_y+roi1_h), (255, 255, 0), 2)\n",
    "\n",
    "        roi2_x = x + 2*w//8\n",
    "        roi2_y = y + 2*h//4\n",
    "        roi2_w = w//10\n",
    "        roi2_h = h//10\n",
    "        cv2.rectangle(resized_frame, (roi2_x, roi2_y), (roi2_x+roi2_w, roi2_y+roi2_h), (255, 255, 255), 2)\n",
    "        cv2.rectangle(ycgco_frame, (roi2_x, roi2_y), (roi2_x+roi2_w, roi2_y+roi2_h), (255, 255, 255), 2)\n",
    "        \n",
    "    # Show the output\n",
    "    cv2.imshow('Face detection frame', ycgco_frame)\n",
    "    # Calculate delay time based on frame rate\n",
    "    delay_time = int(1000 / fps)  # Convert from fps to milliseconds\n",
    "    # Check for 'q' key to exit\n",
    "    key = cv2.waitKey(delay_time) & 0xFF\n",
    "    if key == ord('q'):\n",
    "        break\n",
    "cap.release()\n",
    "cv2.destroyAllWindows()"
   ]
  }
 ],
 "metadata": {
  "kernelspec": {
   "display_name": "Python 3 (ipykernel)",
   "language": "python",
   "name": "python3"
  },
  "language_info": {
   "codemirror_mode": {
    "name": "ipython",
    "version": 3
   },
   "file_extension": ".py",
   "mimetype": "text/x-python",
   "name": "python",
   "nbconvert_exporter": "python",
   "pygments_lexer": "ipython3",
   "version": "3.10.12"
  }
 },
 "nbformat": 4,
 "nbformat_minor": 5
}
