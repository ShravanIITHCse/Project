{
 "cells": [
  {
   "cell_type": "markdown",
   "id": "42dbe7e6-329b-4b5f-8bf8-b09972a86c77",
   "metadata": {},
   "source": [
    "### Adding all the required libraries"
   ]
  },
  {
   "cell_type": "code",
   "execution_count": 14,
   "id": "1decf0ee-e8e9-467c-8eca-9adf2d29b41e",
   "metadata": {},
   "outputs": [],
   "source": [
    "import cv2\n",
    "import numpy as np"
   ]
  },
  {
   "cell_type": "markdown",
   "id": "73cf16d0-95ff-49ef-828a-2624d0f261a8",
   "metadata": {},
   "source": [
    "#### Loading pretrained HAAR cascade"
   ]
  },
  {
   "cell_type": "code",
   "execution_count": 15,
   "id": "bf5bf7b1-4500-4054-9810-4f0a404a1bc9",
   "metadata": {},
   "outputs": [],
   "source": [
    "face_cascade = cv2.CascadeClassifier(cv2.data.haarcascades + 'haarcascade_frontalface_default.xml')"
   ]
  },
  {
   "cell_type": "code",
   "execution_count": 28,
   "id": "0346e2ac-a5cd-41d6-a78d-d3b99bb2ec40",
   "metadata": {},
   "outputs": [],
   "source": [
    "def rgb_to_ycgco(image):\n",
    "    # Extracting R, G, and B channels\n",
    "    R = image[:, :, 2]\n",
    "    G = image[:, :, 1]\n",
    "    B = image[:, :, 0]\n",
    "    r = R.flatten()\n",
    "    g = G.flatten()\n",
    "    b = B.flatten()\n",
    "    \n",
    "    transformation_matrix = np.array([[1/4, 1/2, 1/4],\n",
    "                                  [1/2, 0, -1/2],\n",
    "                                  [-1/4, 1/2, -1/4]])\n",
    "    # Calculating Co, tmp, Cg, and Y\n",
    "    rgb_color = np.array([r, g, b]) \n",
    "   \n",
    "    \n",
    "    # Stacking Y, Cg, and Co channels to form YCGCO image\n",
    "    ycgco_array = np.dot(transformation_matrix, rgb_color)\n",
    "    ycgco_image = ycgco_array.reshape(400, 600,3)\n",
    "    \n",
    "    return ycgco_image"
   ]
  },
  {
   "cell_type": "markdown",
   "id": "4c51ac38-ddce-4975-9272-043fae432db0",
   "metadata": {},
   "source": [
    "#### Load an image"
   ]
  },
  {
   "cell_type": "code",
   "execution_count": 29,
   "id": "8aaeecca-1ccf-483b-a46b-b74ea5b6ad87",
   "metadata": {},
   "outputs": [
    {
     "name": "stdout",
     "output_type": "stream",
     "text": [
      "(400, 600, 3)\n",
      "(400, 600, 3)\n"
     ]
    }
   ],
   "source": [
    "image = cv2.imread('demo5.jpeg')\n",
    "if image is not None:\n",
    "    # Display the image\n",
    "    width = 600\n",
    "    height = 400\n",
    "    resized_image = cv2.resize(image, (width, height))\n",
    "    ycgco_image = rgb_to_ycgco(resized_image)\n",
    "    print(resized_image.shape)\n",
    "    print(ycgco_image.shape)\n",
    "    cv2.imshow('Loaded Image', ycgco_image)\n",
    "    cv2.waitKey(0)  # Wait for any key press\n",
    "    cv2.destroyAllWindows()  # Close all OpenCV windows\n",
    "else:\n",
    "    print(\"Image not found or unable to load.\")"
   ]
  },
  {
   "cell_type": "markdown",
   "id": "aea839fd-98da-4032-95e4-140961154388",
   "metadata": {},
   "source": [
    "#### Converts the image into grayscale"
   ]
  },
  {
   "cell_type": "code",
   "execution_count": null,
   "id": "bee5882e-16d4-48e2-998e-4d86ab91b44e",
   "metadata": {},
   "outputs": [],
   "source": [
    "gray = cv2.cvtColor(resized_image, cv2.COLOR_BGR2GRAY)\n",
    "if image is not None: \n",
    "    # Display the image\n",
    "    cv2.imshow('Grayscale Image', gray)\n",
    "    cv2.waitKey(0)  # Wait for any key press\n",
    "    cv2.destroyAllWindows()  # Close all OpenCV windows\n",
    "else:\n",
    "    print(\"Image not found or unable to load.\")"
   ]
  },
  {
   "cell_type": "markdown",
   "id": "bf63f63a-dfee-43bf-a825-10a711730887",
   "metadata": {},
   "source": [
    "#### Perform Face detection"
   ]
  },
  {
   "cell_type": "code",
   "execution_count": null,
   "id": "accb2f3b-206d-4435-81b8-351217b82f7e",
   "metadata": {},
   "outputs": [],
   "source": [
    "faces = face_cascade.detectMultiScale(ycgco_image, scaleFactor=1.1, minNeighbors=5, minSize=(5, 5))"
   ]
  },
  {
   "cell_type": "markdown",
   "id": "9b3b962a-587c-40e6-8844-ca6707cbdf71",
   "metadata": {},
   "source": [
    "#### Now as we have detected the face lets draw rectangle aorund the face"
   ]
  },
  {
   "cell_type": "code",
   "execution_count": 6,
   "id": "d105e144-359b-44cf-a0d9-31295169a9a3",
   "metadata": {},
   "outputs": [],
   "source": [
    "for (x, y, w, h) in faces:\n",
    "    cv2.rectangle(resized_image, (x, y), (x+w, y+h), (255, 0, 0), 2)"
   ]
  },
  {
   "cell_type": "markdown",
   "id": "f5283ccb-2fb6-48d1-ad00-2f0f468dd747",
   "metadata": {},
   "source": [
    "#### Display the results"
   ]
  },
  {
   "cell_type": "code",
   "execution_count": null,
   "id": "b080732b-6ec2-4b86-be47-c3202401a5c8",
   "metadata": {},
   "outputs": [],
   "source": [
    "# Display the result\n",
    "cv2.imshow('Face Detection', resized_image)\n",
    "cv2.waitKey(0)\n",
    "cv2.destroyAllWindows()"
   ]
  }
 ],
 "metadata": {
  "kernelspec": {
   "display_name": "Python 3 (ipykernel)",
   "language": "python",
   "name": "python3"
  },
  "language_info": {
   "codemirror_mode": {
    "name": "ipython",
    "version": 3
   },
   "file_extension": ".py",
   "mimetype": "text/x-python",
   "name": "python",
   "nbconvert_exporter": "python",
   "pygments_lexer": "ipython3",
   "version": "3.10.12"
  }
 },
 "nbformat": 4,
 "nbformat_minor": 5
}
