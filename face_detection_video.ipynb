{
 "cells": [
  {
   "cell_type": "markdown",
   "id": "d78b9d4a-af3e-4409-aed7-a6bfc0a4881e",
   "metadata": {},
   "source": [
    "## Face detection in a video"
   ]
  },
  {
   "cell_type": "markdown",
   "id": "7a7a7061-1927-4a0a-bd67-4a3d8b439fc2",
   "metadata": {},
   "source": [
    "### Import the modules"
   ]
  },
  {
   "cell_type": "code",
   "execution_count": 1,
   "id": "daa986e8-096a-493e-8354-b71957031bdb",
   "metadata": {},
   "outputs": [],
   "source": [
    "import cv2\n",
    "import numpy as np"
   ]
  },
  {
   "cell_type": "markdown",
   "id": "50129af1-a988-49b0-b24d-ab8c8ad82faf",
   "metadata": {},
   "source": [
    "### Implementing the moving average filter"
   ]
  },
  {
   "cell_type": "code",
   "execution_count": 2,
   "id": "dc0aeda5-d218-4cda-8bb0-b69df98e5bdb",
   "metadata": {},
   "outputs": [],
   "source": [
    "def moving_average_filter(data, window_size):\n",
    "    window = np.ones(window_size) / window_size\n",
    "    return np.convolve(data, window, 'same')"
   ]
  },
  {
   "cell_type": "markdown",
   "id": "ec39b4bc-791a-47b0-991a-c8a387920fb2",
   "metadata": {},
   "source": [
    "### Function to stabilize the coordinates"
   ]
  },
  {
   "cell_type": "code",
   "execution_count": 3,
   "id": "24cd8e36-bc08-4887-8302-9c36404382f9",
   "metadata": {},
   "outputs": [],
   "source": [
    "def stabilize_roi_coordinates(x_coordinates, y_coordinates, window_size):\n",
    "    x_stabilized = moving_average_filter(x_coordinates, window_size)\n",
    "    y_stabilized = moving_average_filter(y_coordinates, window_size)\n",
    "    return x_stabilized, y_stabilized"
   ]
  },
  {
   "cell_type": "markdown",
   "id": "dea7461a-2da7-4508-97c8-7fb5f15fe326",
   "metadata": {},
   "source": [
    "### Loading the pretrained HAAR Cascade"
   ]
  },
  {
   "cell_type": "code",
   "execution_count": 4,
   "id": "c5c278e1-f388-4f37-9321-5f057d6d2e70",
   "metadata": {},
   "outputs": [],
   "source": [
    "face_cascade = cv2.CascadeClassifier(cv2.data.haarcascades + 'haarcascade_frontalface_default.xml')"
   ]
  },
  {
   "cell_type": "markdown",
   "id": "37afeb8d-a302-4db6-b2c2-2c0fe31a0223",
   "metadata": {},
   "source": [
    "### Taking video input"
   ]
  },
  {
   "cell_type": "code",
   "execution_count": 5,
   "id": "f771eb4f-5b00-44e0-8294-6eff56240bd8",
   "metadata": {},
   "outputs": [],
   "source": [
    "cap = cv2.VideoCapture('demo_V.mp4')\n",
    "# Getting the frame rate of the video such that it will run on original speed \n",
    "fps = cap.get(cv2.CAP_PROP_FPS)"
   ]
  },
  {
   "cell_type": "markdown",
   "id": "31751b25-62d2-46cf-b47e-4341aa031e1d",
   "metadata": {},
   "source": [
    "### Caputre the video"
   ]
  },
  {
   "cell_type": "code",
   "execution_count": 6,
   "id": "6f119f4d-6d5e-4c22-aee5-98672b0b7c4c",
   "metadata": {},
   "outputs": [
    {
     "ename": "error",
     "evalue": "OpenCV(4.9.0) :-1: error: (-5:Bad argument) in function 'rectangle'\n> Overload resolution failed:\n>  - Can't parse 'pt1'. Sequence item with index 0 has a wrong type\n>  - Can't parse 'pt1'. Sequence item with index 0 has a wrong type\n>  - Can't parse 'rec'. Expected sequence length 4, got 2\n>  - Can't parse 'rec'. Expected sequence length 4, got 2\n",
     "output_type": "error",
     "traceback": [
      "\u001b[0;31m---------------------------------------------------------------------------\u001b[0m",
      "\u001b[0;31merror\u001b[0m                                     Traceback (most recent call last)",
      "\u001b[0;32m/tmp/ipykernel_70953/997768034.py\u001b[0m in \u001b[0;36m<module>\u001b[0;34m\u001b[0m\n\u001b[1;32m     19\u001b[0m         \u001b[0mwindow_size\u001b[0m \u001b[0;34m=\u001b[0m \u001b[0;36m5\u001b[0m\u001b[0;34m\u001b[0m\u001b[0;34m\u001b[0m\u001b[0m\n\u001b[1;32m     20\u001b[0m         \u001b[0mstabilized_x\u001b[0m\u001b[0;34m,\u001b[0m \u001b[0mstabilized_y\u001b[0m \u001b[0;34m=\u001b[0m \u001b[0mstabilize_roi_coordinates\u001b[0m\u001b[0;34m(\u001b[0m\u001b[0mnp\u001b[0m\u001b[0;34m.\u001b[0m\u001b[0marray\u001b[0m\u001b[0;34m(\u001b[0m\u001b[0;34m[\u001b[0m\u001b[0mx\u001b[0m\u001b[0;34m]\u001b[0m\u001b[0;34m)\u001b[0m\u001b[0;34m,\u001b[0m \u001b[0mnp\u001b[0m\u001b[0;34m.\u001b[0m\u001b[0marray\u001b[0m\u001b[0;34m(\u001b[0m\u001b[0;34m[\u001b[0m\u001b[0my\u001b[0m\u001b[0;34m]\u001b[0m\u001b[0;34m)\u001b[0m\u001b[0;34m,\u001b[0m \u001b[0mwindow_size\u001b[0m\u001b[0;34m)\u001b[0m\u001b[0;34m\u001b[0m\u001b[0;34m\u001b[0m\u001b[0m\n\u001b[0;32m---> 21\u001b[0;31m         \u001b[0mcv2\u001b[0m\u001b[0;34m.\u001b[0m\u001b[0mrectangle\u001b[0m\u001b[0;34m(\u001b[0m\u001b[0mresized_frame\u001b[0m\u001b[0;34m,\u001b[0m \u001b[0;34m(\u001b[0m\u001b[0mstabilized_x\u001b[0m\u001b[0;34m[\u001b[0m\u001b[0;36m0\u001b[0m\u001b[0;34m]\u001b[0m\u001b[0;34m,\u001b[0m \u001b[0mstabilized_y\u001b[0m\u001b[0;34m[\u001b[0m\u001b[0;36m0\u001b[0m\u001b[0;34m]\u001b[0m\u001b[0;34m)\u001b[0m\u001b[0;34m,\u001b[0m \u001b[0;34m(\u001b[0m\u001b[0mstabilized_x\u001b[0m\u001b[0;34m[\u001b[0m\u001b[0;36m0\u001b[0m\u001b[0;34m]\u001b[0m\u001b[0;34m+\u001b[0m\u001b[0mw\u001b[0m\u001b[0;34m,\u001b[0m \u001b[0mstabilized_y\u001b[0m\u001b[0;34m[\u001b[0m\u001b[0;36m0\u001b[0m\u001b[0;34m]\u001b[0m\u001b[0;34m+\u001b[0m\u001b[0mh\u001b[0m\u001b[0;34m)\u001b[0m\u001b[0;34m,\u001b[0m \u001b[0;34m(\u001b[0m\u001b[0;36m255\u001b[0m\u001b[0;34m,\u001b[0m \u001b[0;36m0\u001b[0m\u001b[0;34m,\u001b[0m \u001b[0;36m0\u001b[0m\u001b[0;34m)\u001b[0m\u001b[0;34m,\u001b[0m \u001b[0;36m2\u001b[0m\u001b[0;34m)\u001b[0m\u001b[0;34m\u001b[0m\u001b[0;34m\u001b[0m\u001b[0m\n\u001b[0m\u001b[1;32m     22\u001b[0m \u001b[0;34m\u001b[0m\u001b[0m\n\u001b[1;32m     23\u001b[0m \u001b[0;34m\u001b[0m\u001b[0m\n",
      "\u001b[0;31merror\u001b[0m: OpenCV(4.9.0) :-1: error: (-5:Bad argument) in function 'rectangle'\n> Overload resolution failed:\n>  - Can't parse 'pt1'. Sequence item with index 0 has a wrong type\n>  - Can't parse 'pt1'. Sequence item with index 0 has a wrong type\n>  - Can't parse 'rec'. Expected sequence length 4, got 2\n>  - Can't parse 'rec'. Expected sequence length 4, got 2\n"
     ]
    }
   ],
   "source": [
    "while True:\n",
    "    # Capture frame by frame\n",
    "    ret, frame = cap.read() # ret is return variable which is true when function has read something\n",
    "    \n",
    "    if ret is not True:\n",
    "        break\n",
    "    width = 400\n",
    "    height = 500\n",
    "    resized_frame = cv2.resize(frame, (width, height))\n",
    "\n",
    "    # Convert the frame to grayscale\n",
    "    gray = cv2.cvtColor(resized_frame, cv2.COLOR_BGR2GRAY)\n",
    "\n",
    "    # Perform face detection\n",
    "    faces = face_cascade.detectMultiScale(gray, scaleFactor=1.1, minNeighbors=5, minSize=(30, 30))\n",
    "\n",
    "     # Draw rectangles around the detected faces\n",
    "    for (x, y, w, h) in faces:\n",
    "        window_size = 5\n",
    "        stabilized_x, stabilized_y = stabilize_roi_coordinates(np.array([x]), np.array([y]), window_size)\n",
    "        cv2.rectangle(resized_frame, (stabilized_x[0], stabilized_y[0]), (stabilized_x[0]+w, stabilized_y[0]+h), (255, 0, 0), 2)\n",
    "\n",
    "        \n",
    "    # Show the output\n",
    "    cv2.imshow('Face detection frame', resized_frame)\n",
    "    # Calculate delay time based on frame rate\n",
    "    delay_time = int(1000 / fps)  # Convert from fps to milliseconds\n",
    "    # Check for 'q' key to exit\n",
    "    key = cv2.waitKey(delay_time) & 0xFF\n",
    "    if key == ord('q'):\n",
    "        break\n",
    "cap.release()\n",
    "cv2.destroyAllWindows()"
   ]
  }
 ],
 "metadata": {
  "kernelspec": {
   "display_name": "Python 3 (ipykernel)",
   "language": "python",
   "name": "python3"
  },
  "language_info": {
   "codemirror_mode": {
    "name": "ipython",
    "version": 3
   },
   "file_extension": ".py",
   "mimetype": "text/x-python",
   "name": "python",
   "nbconvert_exporter": "python",
   "pygments_lexer": "ipython3",
   "version": "3.10.12"
  }
 },
 "nbformat": 4,
 "nbformat_minor": 5
}
